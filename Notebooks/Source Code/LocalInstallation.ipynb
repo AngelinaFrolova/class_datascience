{
 "cells": [
  {
   "cell_type": "markdown",
   "id": "0c42e409-7201-4855-9cda-a971168eeb7d",
   "metadata": {},
   "source": [
    "# Local Installation <a class=\"anchor\" id=\"Local-Installation\"></a>\n"
   ]
  },
  {
   "cell_type": "markdown",
   "id": "7c3c5037-13c6-4de0-a763-9cfe58a84784",
   "metadata": {},
   "source": [
    "## Install Anaconda\n",
    "- Visit [continuum.io](https://www.anaconda.com/download) and download the Anaconda Python distribution for your operating system (Windows/Mac OS/Linux).\n",
    "- Be sure to download the Python 3.X (where X is some number greater than or equal to 8) version, not the 2.7 version.\n",
    "\n",
    "<div>\n",
    "<img src=\"Images/Notebook_LocalInstallation_1.png\" width=\"700\"/>\n",
    "</div>\n",
    "\n",
    "- Make sure that during the installation [Anaconda is added to your environment/path](https://docs.anaconda.com/anaconda/user-guide/tasks/integration/python-path/).\n",
    "  - For Mac OS / Linux: this should happen by default.\n",
    "  - For Windows users, it is recommended installing for “just me” instead of “all users”. Windows users will need to check the upper box when the page shown below appears (disregard the “not recommended” warning from Anaconda)."
   ]
  },
  {
   "cell_type": "markdown",
   "id": "750d5e5a-673c-4796-9b91-c4dc87bdcb4f",
   "metadata": {},
   "source": [
    "## Install Github Desktop and Download Repositories\n",
    "- Install [Github Desktop](https://desktop.github.com/)\n",
    "- Go to a Github repository, for example [SMT Class Data Science and Statistics](https://github.com/edoardochiarotti/class_datascience)\n",
    "- Copy the url link, open Github Desktop and do File -> Clone Repository, like this:\n",
    "\n",
    "<div>\n",
    "<img src=\"Images/Notebook_LocalInstallation_2.png\" width=\"700\"/>\n",
    "</div>\n",
    "\n",
    "- Copy and paste the url link of the Github repository, like this:\n",
    "<div>\n",
    "<img src=\"Images/Notebook_LocalInstallation_3.png\" width=\"500\"/>\n",
    "</div>\n",
    "\n",
    "- The repository should now be added to your computer. Now you can launch \"Jupyter Notebook\", locate the folder called \"GitHub\", open \"class_datascience\" and \"Notebooks\", and you'll find the notebooks of the class."
   ]
  },
  {
   "cell_type": "markdown",
   "id": "620e1fdb",
   "metadata": {},
   "source": [
    "Terminal\n",
    "- Make sure that `git` is installed on your computer. (`git` is not installed on Windows by default. You can download and install it from [here](https://git-scm.com/download/win)).\n",
    "- Open a terminal.\n",
    "- Set the path to where you would like to download the lectures. The default one is your home directory.\n",
    "- Run `git clone https://github.com/edoardochiarotti/class_datascience.git` which will download the repository with notebooks in your working directory."
   ]
  },
  {
   "cell_type": "code",
   "execution_count": null,
   "id": "39b413ab",
   "metadata": {},
   "outputs": [],
   "source": []
  }
 ],
 "metadata": {
  "kernelspec": {
   "display_name": "Python 3 (ipykernel)",
   "language": "python",
   "name": "python3"
  },
  "language_info": {
   "codemirror_mode": {
    "name": "ipython",
    "version": 3
   },
   "file_extension": ".py",
   "mimetype": "text/x-python",
   "name": "python",
   "nbconvert_exporter": "python",
   "pygments_lexer": "ipython3",
   "version": "3.9.7"
  }
 },
 "nbformat": 4,
 "nbformat_minor": 5
}
